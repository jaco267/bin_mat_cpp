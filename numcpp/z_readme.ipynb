{
 "cells": [
  {
   "cell_type": "markdown",
   "metadata": {},
   "source": [
    "numcpp tensor v0.0.1\n",
    "##### nc_init.h  (vec and matrix)\n",
    "- zeros_vec/ones_vec/zeros_mat/arange_vec/eye\n",
    "##### nc_rand.h  (vec and matrix)\n",
    "- randn\n",
    "##### numcpp.h (vec and matrix)\n",
    "- E2MAX/vec_equal/mat2vec/vec2mat\n",
    "- argsort/kron/hstack3/setdiff1d/setdiff1d_rev\n",
    "- np_sum/mul_vec/print_mat/print_vec/bin_mat_sum/bin_mat_mul\n",
    "- bin_to_dec/dec_to_bin/mat2comp_vec/comp_vec2mat/swap_row/add_row\n",
    "- unique_map/ unique_/\n",
    "##### ten_init.h (tensor)\n",
    "- zeros/ones/arange\n",
    "##### tensor_index.h  (tensor[start:end])\n",
    "- Slice(start,end)/ None \n",
    "##### tensor.h (tensor)\n",
    "- reshape/info/toVec()/toMat() \n",
    "- index/index_put/slice/slice_put"
   ]
  }
 ],
 "metadata": {
  "language_info": {
   "name": "python"
  }
 },
 "nbformat": 4,
 "nbformat_minor": 2
}
