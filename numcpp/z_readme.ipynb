{
 "cells": [
  {
   "cell_type": "markdown",
   "metadata": {},
   "source": [
    "numcpp tensor v0.0.1\n",
    "##### nc_init.h  (vec and matrix)\n",
    "- ex1: zeros_vec/ones_vec/zeros_mat/arange_vec/eye\n",
    "##### nc_rand.h  (vec and matrix)\n",
    "- ex0: randn\n",
    "##### nc_vec.h (vec & matrix)\n",
    "- ex2: vec_equal/\n",
    "- ex4: sum_vec(a)/sum_vec(a,b)/mul_vec(a)/print_vec\n",
    "##### numcpp.h (vec and matrix, ex2, ex3)\n",
    "- ex2: E2MAX/mat2vec/vec2mat\n",
    "- ex3: argsort/kron/hstack3/setdiff1d/setdiff1d_rev\n",
    "- ex5: sum_mat(a)/bin_mat_mul\n",
    "- ex6: bin_to_dec/dec_to_bin/mat2comp_vec/comp_vec2mat/swap_row/add_row\n",
    "- ex7: unique_map/ unique_/print_mat/\n",
    "##### ten_init.h (tensor)\n",
    "- ex10: zeros/ones/arange\n",
    "- ex16: hstack\n",
    "##### ten_arith.cpp (tensor)\n",
    "- ex14: add/minus\n",
    "- ex15: mul/div\n",
    "##### tensor.h (tensor)\n",
    "- ex11: reshape/info/toVec()/toMat()/fromMat()\n",
    "\n",
    "##### tensor_index_utils.cpp (tensor)\n",
    "- ex12: slice/slice_put\n",
    "- ex13: index/index_put\n",
    "##### tensor_index.h  (tensor[start:end])\n",
    "- ex13: Slice(start,end)/ None \n",
    "\n"
   ]
  }
 ],
 "metadata": {
  "language_info": {
   "name": "python"
  }
 },
 "nbformat": 4,
 "nbformat_minor": 2
}
