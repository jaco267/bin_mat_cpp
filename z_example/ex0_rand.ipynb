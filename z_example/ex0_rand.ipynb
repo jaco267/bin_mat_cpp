{
 "cells": [
  {
   "cell_type": "markdown",
   "metadata": {},
   "source": [
    "##### randn \n",
    "generate same randn (gaussian) distribution as in python "
   ]
  },
  {
   "cell_type": "code",
   "execution_count": null,
   "metadata": {
    "vscode": {
     "languageId": "shellscript"
    }
   },
   "outputs": [],
   "source": [
    "python run.py --opt 0 --delete False\n",
    "\n",
    "# 1608637542\n",
    "# 3421126067\n",
    "# 0.06456553583016988\n",
    "# 0.07325430398666906\n"
   ]
  },
  {
   "cell_type": "code",
   "execution_count": null,
   "metadata": {
    "vscode": {
     "languageId": "shellscript"
    }
   },
   "outputs": [],
   "source": [
    "# python example \n",
    "python main.py --opt 0\n",
    "\n",
    "#* same result as cpp version\n",
    "# 1608637542\n",
    "# 3421126067\n",
    "# 0.06456553583016988\n",
    "# 0.07325430398666906"
   ]
  }
 ],
 "metadata": {
  "language_info": {
   "name": "python"
  }
 },
 "nbformat": 4,
 "nbformat_minor": 2
}
