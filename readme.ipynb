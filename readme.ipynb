{
 "cells": [
  {
   "cell_type": "code",
   "execution_count": null,
   "metadata": {
    "vscode": {
     "languageId": "shellscript"
    }
   },
   "outputs": [],
   "source": [
    "pip install pyrallis"
   ]
  },
  {
   "cell_type": "code",
   "execution_count": null,
   "metadata": {
    "vscode": {
     "languageId": "shellscript"
    }
   },
   "outputs": [],
   "source": [
    "python main.py --opt 0\n",
    "python run.py --opt 0 --delete False\n",
    "python run.py --opt 1 --delete False\n",
    "'''\n",
    "zeros vector (3)\n",
    "0 0 0 \n",
    "zeros matrix (3,3)\n",
    "[[0,0,0,],\n",
    " [0,0,0,],\n",
    " [0,0,0,]]\n",
    "eye\n",
    "[[1,0,0,],\n",
    " [0,1,0,],\n",
    " [0,0,1,]]\n",
    "arange(1,5,1)\n",
    "1 2 3 4 \n",
    "'''"
   ]
  }
 ],
 "metadata": {
  "language_info": {
   "name": "python"
  }
 },
 "nbformat": 4,
 "nbformat_minor": 2
}
