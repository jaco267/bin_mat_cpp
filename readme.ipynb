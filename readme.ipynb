{
 "cells": [
  {
   "cell_type": "code",
   "execution_count": null,
   "metadata": {
    "vscode": {
     "languageId": "shellscript"
    }
   },
   "outputs": [],
   "source": [
    "pip install pyrallis"
   ]
  },
  {
   "cell_type": "code",
   "execution_count": null,
   "metadata": {
    "vscode": {
     "languageId": "shellscript"
    }
   },
   "outputs": [],
   "source": [
    "python main.py --opt 0\n",
    "python run.py --opt 0 --delete False\n",
    "python run.py --opt 1 --delete False\n"
   ]
  },
  {
   "cell_type": "markdown",
   "metadata": {},
   "source": [
    "```\n",
    "zeros vector (3)\n",
    "0 0 0 \n",
    "zeros matrix (3,3)\n",
    "[[0,0,0,],\n",
    " [0,0,0,],\n",
    " [0,0,0,]]\n",
    "eye\n",
    "[[1,0,0,],\n",
    " [0,1,0,],\n",
    " [0,0,1,]]\n",
    "arange(1,5,1)\n",
    "1 2 3 4 \n",
    "```"
   ]
  },
  {
   "cell_type": "code",
   "execution_count": null,
   "metadata": {
    "vscode": {
     "languageId": "shellscript"
    }
   },
   "outputs": [],
   "source": [
    "python run.py --opt 2 --delete False"
   ]
  },
  {
   "cell_type": "markdown",
   "metadata": {},
   "source": [
    "```\n",
    "F4\n",
    "[[1,0,0,0,],\n",
    " [1,1,0,0,],\n",
    " [1,0,1,0,],\n",
    " [1,1,1,1,]]\n",
    "sum(e1)=4\n",
    "(F4@e1)%2=\n",
    "[[1,0,0,0,],\n",
    " [1,1,0,0,],\n",
    " [1,0,1,0,],\n",
    " [1,1,1,1,]]\n",
    "h stack(A,B,C)\n",
    "[[1,0,0,0,1,0,0,0,1,0,0,0,],\n",
    " [1,1,0,0,0,1,0,0,1,1,0,0,],\n",
    " [1,0,1,0,0,0,1,0,1,0,1,0,],\n",
    " [1,1,1,1,0,0,0,1,1,1,1,1,]]\n",
    "setdiff1d (arange(0,5), [1,3])\n",
    "0 2 4 \n",
    "e1\n",
    "[[1,0,0,0,],\n",
    " [0,1,0,0,],\n",
    " [0,0,1,0,],\n",
    " [0,0,0,1,]]\n",
    "swap e1 row0 row1\n",
    "[[0,1,0,0,],\n",
    " [1,0,0,0,],\n",
    " [0,0,1,0,],\n",
    " [0,0,0,1,]]\n",
    "bin add e1 row 1 += row2\n",
    "[[0,1,0,0,],\n",
    " [1,0,1,0,],\n",
    " [0,0,1,0,],\n",
    " [0,0,0,1,]]\n",
    "---bin_to_dec\n",
    "0 1 1 0 1 \n",
    "--->13\n",
    "back to vec\n",
    "0 1 1 0 1 \n",
    "F4 to compressed int vector\n",
    "1 3 5 15 \n",
    "back to mat\n",
    "[[1,0,0,0,],\n",
    " [1,1,0,0,],\n",
    " [1,0,1,0,],\n",
    " [1,1,1,1,]]\n",
    "```"
   ]
  }
 ],
 "metadata": {
  "language_info": {
   "name": "python"
  }
 },
 "nbformat": 4,
 "nbformat_minor": 2
}
